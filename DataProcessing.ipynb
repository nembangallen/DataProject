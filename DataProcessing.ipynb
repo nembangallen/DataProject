{
  "nbformat": 4,
  "nbformat_minor": 0,
  "metadata": {
    "colab": {
      "name": "DataProcessing.ipynb",
      "provenance": [],
      "collapsed_sections": []
    },
    "kernelspec": {
      "name": "python3",
      "display_name": "Python 3"
    },
    "language_info": {
      "name": "python"
    },
    "accelerator": "GPU"
  },
  "cells": [
    {
      "cell_type": "markdown",
      "metadata": {
        "id": "H2VuSfG0jstk"
      },
      "source": [
        "Upload java file for eg. MultiplicationTable.java"
      ]
    },
    {
      "cell_type": "code",
      "metadata": {
        "id": "Scc420uqgXg0"
      },
      "source": [
        "# Import Library\n",
        "import pandas as pd\n",
        "import re"
      ],
      "execution_count": null,
      "outputs": []
    },
    {
      "cell_type": "code",
      "metadata": {
        "id": "pGN52F8Yg9eP"
      },
      "source": [
        "def readFile(filename):\n",
        "  fileContent = '';\n",
        "  with open(filename, 'r') as file:\n",
        "    fileContent = file.read()\n",
        "  return fileContent"
      ],
      "execution_count": null,
      "outputs": []
    },
    {
      "cell_type": "code",
      "metadata": {
        "id": "8Pycx3PqhfMF"
      },
      "source": [
        "def removeComment(data):\n",
        "  formattedContent = ''\n",
        "  for s in data.split(\"*/\"):\n",
        "    s=s[:s.find(\"/*\")]\n",
        "    # print(s[:s.find(\"//\")])\n",
        "    formattedContent+= s[:s.find(\"//\")]\n",
        "  final_data = re.sub(r'(?<=\\n)\\s+', '', formattedContent, re.MULTILINE)\n",
        "  return final_data"
      ],
      "execution_count": null,
      "outputs": []
    },
    {
      "cell_type": "code",
      "metadata": {
        "id": "J0YYD4Swh8Qs"
      },
      "source": [
        "def save_to_csv(final_data, filename):\n",
        "  df = pd.DataFrame({ \"code\": [final_data] })\n",
        "  df.to_csv(filename+'.csv')"
      ],
      "execution_count": null,
      "outputs": []
    },
    {
      "cell_type": "code",
      "metadata": {
        "id": "-4rec0OLiRyV"
      },
      "source": [
        "file_read = readFile('MultiplicationTable.java')"
      ],
      "execution_count": null,
      "outputs": []
    },
    {
      "cell_type": "code",
      "metadata": {
        "id": "zN8J7IOTjVJG"
      },
      "source": [
        "comment_remove = removeComment(file_read)"
      ],
      "execution_count": null,
      "outputs": []
    },
    {
      "cell_type": "code",
      "metadata": {
        "id": "AkYO8OAvjb-9"
      },
      "source": [
        "save_to_csv(comment_remove, \"MultiplicationTable\")"
      ],
      "execution_count": null,
      "outputs": []
    },
    {
      "cell_type": "code",
      "metadata": {
        "id": "0Y-YBvVqjnjj"
      },
      "source": [
        ""
      ],
      "execution_count": null,
      "outputs": []
    }
  ]
}